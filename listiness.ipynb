{
  "nbformat": 4,
  "nbformat_minor": 0,
  "metadata": {
    "colab": {
      "name": "L1 - lec2.ipynb",
      "provenance": [],
      "collapsed_sections": [],
      "include_colab_link": true
    },
    "kernelspec": {
      "display_name": "Python 3",
      "language": "python",
      "name": "python3"
    },
    "language_info": {
      "codemirror_mode": {
        "name": "ipython",
        "version": 3
      },
      "file_extension": ".py",
      "mimetype": "text/x-python",
      "name": "python",
      "nbconvert_exporter": "python",
      "pygments_lexer": "ipython3",
      "version": "3.7.6"
    }
  },
  "cells": [
    {
      "cell_type": "markdown",
      "metadata": {
        "id": "view-in-github",
        "colab_type": "text"
      },
      "source": [
        "<a href=\"https://colab.research.google.com/github/YatishPachigolla/BasicPython/blob/main/listiness.ipynb\" target=\"_parent\"><img src=\"https://colab.research.google.com/assets/colab-badge.svg\" alt=\"Open In Colab\"/></a>"
      ]
    },
    {
      "cell_type": "markdown",
      "metadata": {
        "id": "N69juCK0tCFh"
      },
      "source": [
        "# Listiness.. or things that behave like lists"
      ]
    },
    {
      "cell_type": "markdown",
      "metadata": {
        "id": "95nwaid4tCFq"
      },
      "source": [
        "Python puts great stock in the idea of having  **protocols** or mechanisms of behavior, and identifying cases in which this behavior is common.\n",
        "\n",
        "One of the most important ideas is that of things that behave like a *list of items*. \n",
        "\n",
        "These include lists, strings, and files. Many other data structures in Python are made to behave like lists as well, so that their content can be *iterated* through, in addition to their own native behavior."
      ]
    },
    {
      "cell_type": "markdown",
      "metadata": {
        "id": "jDynSCDMwHcC"
      },
      "source": [
        "## Lists\n",
        "\n",
        "The first of these that we should consider, are, well, lists themselves :-). Lets see how python lists behave.\n",
        "\n",
        "A list in Python is a sequence of anything!\n",
        "\n",
        "Lists are mutable; you can insert and delete elements anytime."
      ]
    },
    {
      "cell_type": "code",
      "metadata": {
        "colab": {
          "base_uri": "https://localhost:8080/"
        },
        "id": "kDz4HzEbwORg",
        "outputId": "b27a6a44-6635-48fe-f57f-6ed38cb3ff1a"
      },
      "source": [
        "# CREATING A LIST\n",
        "\n",
        "# A list is made from zero or more elements, separated by commas, and surrounded by square\n",
        "empty_list = []\n",
        "working_days = ['Monday', 'Tuesday', 'Wednesday', 'Thursday', 'Friday']\n",
        "print (working_days[2])"
      ],
      "execution_count": 2,
      "outputs": [
        {
          "output_type": "stream",
          "text": [
            "Wednesday\n"
          ],
          "name": "stdout"
        }
      ]
    },
    {
      "cell_type": "code",
      "metadata": {
        "colab": {
          "base_uri": "https://localhost:8080/",
          "height": 35
        },
        "id": "Qtg_XFBCws1M",
        "outputId": "80be5a2f-3668-4621-e313-eee2e70734fc"
      },
      "source": [
        "working_days[3]                           #Always print is not needed.."
      ],
      "execution_count": 5,
      "outputs": [
        {
          "output_type": "execute_result",
          "data": {
            "application/vnd.google.colaboratory.intrinsic+json": {
              "type": "string"
            },
            "text/plain": [
              "'Thursday'"
            ]
          },
          "metadata": {
            "tags": []
          },
          "execution_count": 5
        }
      ]
    },
    {
      "cell_type": "code",
      "metadata": {
        "colab": {
          "base_uri": "https://localhost:8080/"
        },
        "id": "c0Y8p9UuwV3g",
        "outputId": "9e2cd5c1-95d3-4e7b-93a5-a55cb52dc3c2"
      },
      "source": [
        "working_days                              #Always print is not needed..  "
      ],
      "execution_count": 3,
      "outputs": [
        {
          "output_type": "execute_result",
          "data": {
            "text/plain": [
              "['Monday', 'Tuesday', 'Wednesday', 'Thursday', 'Friday']"
            ]
          },
          "metadata": {
            "tags": []
          },
          "execution_count": 3
        }
      ]
    },
    {
      "cell_type": "markdown",
      "metadata": {
        "id": "jsfIBMORtCFu"
      },
      "source": [
        "Notice that Python lists are indexed from 0. The first element gets index 0, the second element gets index 1, and so on. Thus `working_days[2]` gives us the 3rd element."
      ]
    },
    {
      "cell_type": "code",
      "metadata": {
        "colab": {
          "base_uri": "https://localhost:8080/"
        },
        "id": "U7HF3VDJtCFu",
        "outputId": "99e42487-d1c8-40cb-8318-3b68490f5603"
      },
      "source": [
        "# An empty list can be created using the list() function:\n",
        "next_empty_list = list()\n",
        "print (type(next_empty_list))"
      ],
      "execution_count": 6,
      "outputs": [
        {
          "output_type": "stream",
          "text": [
            "<class 'list'>\n"
          ],
          "name": "stdout"
        }
      ]
    },
    {
      "cell_type": "markdown",
      "metadata": {
        "id": "fmCXX5xTtCFv"
      },
      "source": [
        "![](https://github.com/YatishPachigolla/BasicPython/blob/main/listiness.slides.dir/3.png?raw=1)"
      ]
    },
    {
      "cell_type": "markdown",
      "metadata": {
        "id": "HjXvQwwEtCFv"
      },
      "source": [
        "There is a class of objects in Python that are not lists, bur rather, like lists, have a sequential existent. We dont want to generate them until we need them because they are easy to generate and would otherwise take up memory. An example is the\n",
        "object created by the function `range(start, stop)` which just gives you sequential numbers from start to 1 before stop. To generate these numbers, we can pass them to the `list` function"
      ]
    },
    {
      "cell_type": "code",
      "metadata": {
        "id": "FhbsuECQtCFw",
        "outputId": "ebf0fafd-dd07-44ee-97f8-08f35f5f8d8b"
      },
      "source": [
        "range(1,10)"
      ],
      "execution_count": null,
      "outputs": [
        {
          "output_type": "execute_result",
          "data": {
            "text/plain": [
              "range(1, 10)"
            ]
          },
          "metadata": {
            "tags": []
          },
          "execution_count": 55
        }
      ]
    },
    {
      "cell_type": "code",
      "metadata": {
        "id": "CCjPibek29GV",
        "outputId": "ba252619-f6c7-45b9-cee6-b600e36d81d6",
        "colab": {
          "base_uri": "https://localhost:8080/"
        }
      },
      "source": [
        "type(range(1,10))\r\n"
      ],
      "execution_count": 7,
      "outputs": [
        {
          "output_type": "execute_result",
          "data": {
            "text/plain": [
              "range"
            ]
          },
          "metadata": {
            "tags": []
          },
          "execution_count": 7
        }
      ]
    },
    {
      "cell_type": "code",
      "metadata": {
        "id": "2w00JDg0wS3-",
        "outputId": "3a3a2cf3-4cfd-457c-b3f8-6e878be52626"
      },
      "source": [
        "num_list = list(range(1,10)) \n",
        "print(num_list) "
      ],
      "execution_count": null,
      "outputs": [
        {
          "output_type": "stream",
          "text": [
            "[1, 2, 3, 4, 5, 6, 7, 8, 9]\n"
          ],
          "name": "stdout"
        }
      ]
    },
    {
      "cell_type": "code",
      "metadata": {
        "id": "VwQolwoUwUfE",
        "outputId": "e119f482-796e-4d2c-9768-4e9ed38015a0"
      },
      "source": [
        "# Lists are mutable (elements are changeable) \n",
        "num_list = [1, 2, 3, 4]\n",
        "num_list[1] = 8 \n",
        "print (num_list)"
      ],
      "execution_count": null,
      "outputs": [
        {
          "output_type": "stream",
          "text": [
            "[1, 8, 3, 4]\n"
          ],
          "name": "stdout"
        }
      ]
    },
    {
      "cell_type": "markdown",
      "metadata": {
        "id": "SJO4zzETtCFx"
      },
      "source": [
        "![](https://github.com/YatishPachigolla/BasicPython/blob/main/listiness.slides.dir/4.png?raw=1)"
      ]
    },
    {
      "cell_type": "code",
      "metadata": {
        "id": "sdBbnLTVwXJf",
        "outputId": "00c560a3-7f95-46c3-eef0-87e4e70c1b9f"
      },
      "source": [
        "# Indexing a list\n",
        "# - Any integer expression can be used as an index\n",
        "# - If an index has a negative value, it counts from backward\n",
        "lst = list(range(1,5))\n",
        "print(lst)\n",
        "print (lst[-1])"
      ],
      "execution_count": null,
      "outputs": [
        {
          "output_type": "stream",
          "text": [
            "[1, 2, 3, 4]\n",
            "4\n"
          ],
          "name": "stdout"
        }
      ]
    },
    {
      "cell_type": "markdown",
      "metadata": {
        "id": "6ZM3EIp2tCFy"
      },
      "source": [
        "You can get slices of lists"
      ]
    },
    {
      "cell_type": "code",
      "metadata": {
        "id": "CRs9QAs5tCFz",
        "outputId": "e453bfb0-6007-48fb-bdb7-d427cb01f2f8"
      },
      "source": [
        "lst[0:3] # from 0, dont include whats at index 3"
      ],
      "execution_count": null,
      "outputs": [
        {
          "output_type": "execute_result",
          "data": {
            "text/plain": [
              "[1, 2, 3]"
            ]
          },
          "metadata": {
            "tags": []
          },
          "execution_count": 37
        }
      ]
    },
    {
      "cell_type": "code",
      "metadata": {
        "id": "ZdapXhA2tCFz",
        "outputId": "2df777bf-75f0-4180-b795-1b65e27a62cf"
      },
      "source": [
        "lst[-3:-1]"
      ],
      "execution_count": null,
      "outputs": [
        {
          "output_type": "execute_result",
          "data": {
            "text/plain": [
              "[2, 3]"
            ]
          },
          "metadata": {
            "tags": []
          },
          "execution_count": 38
        }
      ]
    },
    {
      "cell_type": "code",
      "metadata": {
        "id": "dsEJup_xwZYQ",
        "outputId": "5dd95775-0418-4ff3-99a0-a4ba0171594d"
      },
      "source": [
        "# A list can have another list, or anything else as its element\n",
        "numbers = [1, 2, 3, 4, 5]\n",
        "courses = ['PP', 'BDA', \"USP\", 'WTA'] \n",
        "new_list = [numbers, courses, '6th sem'] \n",
        "print (new_list, len(new_list))"
      ],
      "execution_count": null,
      "outputs": [
        {
          "output_type": "stream",
          "text": [
            "[[1, 2, 3, 4, 5], ['PP', 'BDA', 'USP', 'WTA'], '6th sem'] 3\n"
          ],
          "name": "stdout"
        }
      ]
    },
    {
      "cell_type": "code",
      "metadata": {
        "id": "yxPMSYv2wi4y",
        "outputId": "576d238d-e81e-4eff-f637-3a6a71587049"
      },
      "source": [
        "#Membership (using 'in' operator)\n",
        "'a' in list_a"
      ],
      "execution_count": null,
      "outputs": [
        {
          "output_type": "execute_result",
          "data": {
            "text/plain": [
              "True"
            ]
          },
          "metadata": {
            "tags": []
          },
          "execution_count": 40
        }
      ]
    },
    {
      "cell_type": "markdown",
      "metadata": {
        "id": "Gew0YEf1tCF0"
      },
      "source": [
        "## Operations on lists\n",
        "\n",
        "Lists support many methods which make using them simple. My favorite is `append`.\n"
      ]
    },
    {
      "cell_type": "code",
      "metadata": {
        "id": "N8t4LmEAwlLf",
        "outputId": "0c629ba3-5e1f-44e8-9acc-7c43c467d1da"
      },
      "source": [
        "# append(x) - Adds a new element 'x' at the end of the list\n",
        "alist = ['a', 'b', 'c'] \n",
        "alist.append('d') \n",
        "print (alist)"
      ],
      "execution_count": null,
      "outputs": [
        {
          "output_type": "stream",
          "text": [
            "['a', 'b', 'c', 'd']\n"
          ],
          "name": "stdout"
        }
      ]
    },
    {
      "cell_type": "code",
      "metadata": {
        "id": "jPuZo76mtCF2",
        "outputId": "39a019f9-2551-4221-c38d-91b91b45c1e1"
      },
      "source": [
        "# insert(i, x) - inserts a new element 'x' at a specified index 'i'\n",
        "alist.insert(2, \"hello\")\n",
        "alist"
      ],
      "execution_count": null,
      "outputs": [
        {
          "output_type": "execute_result",
          "data": {
            "text/plain": [
              "['a', 'b', 'hello', 'c', 'd']"
            ]
          },
          "metadata": {
            "tags": []
          },
          "execution_count": 42
        }
      ]
    },
    {
      "cell_type": "code",
      "metadata": {
        "id": "C9YZUZcHw-4K",
        "outputId": "5bee31c1-7f3d-4f25-908f-b4883eda03d1"
      },
      "source": [
        "# sorted(list) - returns the sorted 'list', but does not replace order in original list \n",
        "num = [ 4, 6, 2]\n",
        "num = sorted(num)\n",
        "num"
      ],
      "execution_count": null,
      "outputs": [
        {
          "output_type": "execute_result",
          "data": {
            "text/plain": [
              "[2, 4, 6]"
            ]
          },
          "metadata": {
            "tags": []
          },
          "execution_count": 43
        }
      ]
    },
    {
      "cell_type": "code",
      "metadata": {
        "id": "a8W1o6D2xIyG",
        "outputId": "50c53697-90d9-48ae-b4be-f3aa86adae46"
      },
      "source": [
        "# pop(i) - removes and returns the element in index position 'i'\n",
        "num = [4, 7, 2, 6, 3, 9] \n",
        "num.pop(3)\n",
        "num"
      ],
      "execution_count": null,
      "outputs": [
        {
          "output_type": "execute_result",
          "data": {
            "text/plain": [
              "[4, 7, 2, 3, 9]"
            ]
          },
          "metadata": {
            "tags": []
          },
          "execution_count": 44
        }
      ]
    },
    {
      "cell_type": "code",
      "metadata": {
        "id": "u3mw0lvxxN5M",
        "outputId": "4aaf9816-77e3-4b16-db51-4bd46eb895b1"
      },
      "source": [
        "# clear() - removes all the elements from a list.\n",
        "num = [4, 7, 2, 6, 3, 9]\n",
        "num.clear()\n",
        "num"
      ],
      "execution_count": null,
      "outputs": [
        {
          "output_type": "execute_result",
          "data": {
            "text/plain": [
              "[]"
            ]
          },
          "metadata": {
            "tags": []
          },
          "execution_count": 45
        }
      ]
    },
    {
      "cell_type": "markdown",
      "metadata": {
        "id": "jlsnqN0rtCF5"
      },
      "source": [
        "Adding lists produces a bigger list! This is an example of a programming technique called operator overloading"
      ]
    },
    {
      "cell_type": "code",
      "metadata": {
        "id": "fJkScoXPtCF5",
        "outputId": "659d7c84-3a02-4ea4-a4a4-d3d673bb616a"
      },
      "source": [
        "first_list = [1, 2, 3]\n",
        "second_list = ['a', 'b', 'c']\n",
        "first_list + second_list"
      ],
      "execution_count": null,
      "outputs": [
        {
          "output_type": "execute_result",
          "data": {
            "text/plain": [
              "[1, 2, 3, 'a', 'b', 'c']"
            ]
          },
          "metadata": {
            "tags": []
          },
          "execution_count": 46
        }
      ]
    },
    {
      "cell_type": "markdown",
      "metadata": {
        "id": "7L2WC_eItCF6"
      },
      "source": [
        "## Iterating over lists\n",
        "\n",
        "Using a for loop to do iteration is quite simple."
      ]
    },
    {
      "cell_type": "code",
      "metadata": {
        "id": "G8nI9eyRtCF9",
        "outputId": "12ba95cf-3de5-429b-f78e-0876baa971ff"
      },
      "source": [
        "num = [4, 7, 2, 6, 3, 9]\n",
        "for ele in num:\n",
        "    print(ele)"
      ],
      "execution_count": null,
      "outputs": [
        {
          "output_type": "stream",
          "text": [
            "4\n",
            "7\n",
            "2\n",
            "6\n",
            "3\n",
            "9\n"
          ],
          "name": "stdout"
        }
      ]
    },
    {
      "cell_type": "markdown",
      "metadata": {
        "id": "kIziWwmqtCF9"
      },
      "source": [
        "You can now mix in conditionals to filter your iteration:"
      ]
    },
    {
      "cell_type": "code",
      "metadata": {
        "id": "AvH76UATtCF-",
        "outputId": "4546c88b-0274-4ff2-dcc2-a47543a6f644"
      },
      "source": [
        "for ele in num:\n",
        "    if ele % 2 == 0: #even numbers only\n",
        "        print(ele)"
      ],
      "execution_count": null,
      "outputs": [
        {
          "output_type": "stream",
          "text": [
            "4\n",
            "2\n",
            "6\n"
          ],
          "name": "stdout"
        }
      ]
    },
    {
      "cell_type": "markdown",
      "metadata": {
        "id": "UUOGeAcVtCF-"
      },
      "source": [
        "There is a short-cut iteration syntax called a list comprehension, often used to construct new lists"
      ]
    },
    {
      "cell_type": "code",
      "metadata": {
        "id": "f7uDnkqUtCF-",
        "outputId": "b2e69997-900a-4019-b3ae-ed89e154de13"
      },
      "source": [
        "list_with_same_as_num = [e for e in num]\n",
        "list_with_same_as_num"
      ],
      "execution_count": null,
      "outputs": [
        {
          "output_type": "execute_result",
          "data": {
            "text/plain": [
              "[4, 7, 2, 6, 3, 9]"
            ]
          },
          "metadata": {
            "tags": []
          },
          "execution_count": 49
        }
      ]
    },
    {
      "cell_type": "markdown",
      "metadata": {
        "id": "qkizBuajtCF_"
      },
      "source": [
        "This kind of syntax is really useful when combined with conditionals:"
      ]
    },
    {
      "cell_type": "code",
      "metadata": {
        "id": "mvzm2qnCtCF_",
        "outputId": "1ce89b82-00f0-4c07-ddec-56d22ac6c6d7"
      },
      "source": [
        "list_with_evens = [e for e in num if e % 2 == 0]\n",
        "list_with_evens"
      ],
      "execution_count": null,
      "outputs": [
        {
          "output_type": "execute_result",
          "data": {
            "text/plain": [
              "[4, 2, 6]"
            ]
          },
          "metadata": {
            "tags": []
          },
          "execution_count": 50
        }
      ]
    },
    {
      "cell_type": "markdown",
      "metadata": {
        "id": "-kKCRDDZoNvk"
      },
      "source": [
        "## Strings\n",
        "\n",
        "Strings such as `hello world` in python behave just like lists, and a lot of what you learn about lists applies to them: they are **iterable**, and they have a length! But they have one critical additional property: they are **immutable**, that is they cant be changed!\n"
      ]
    },
    {
      "cell_type": "code",
      "metadata": {
        "id": "Cbkj834onHje",
        "outputId": "aa33b0f3-cdbc-418a-91b9-93bbb8d6a55b"
      },
      "source": [
        "var = \"This is a string\"\n",
        "print (var, len(var))\n",
        "print (var[3]) # the s of This"
      ],
      "execution_count": null,
      "outputs": [
        {
          "output_type": "stream",
          "text": [
            "This is a string 16\n",
            "s\n"
          ],
          "name": "stdout"
        }
      ]
    },
    {
      "cell_type": "code",
      "metadata": {
        "id": "kWWP6d88tCGA",
        "outputId": "8e5d680d-adb8-4f21-9e6a-bb076dfa961c"
      },
      "source": [
        "for char in var:\n",
        "    print(char)"
      ],
      "execution_count": null,
      "outputs": [
        {
          "output_type": "stream",
          "text": [
            "T\n",
            "h\n",
            "i\n",
            "s\n",
            " \n",
            "i\n",
            "s\n",
            " \n",
            "a\n",
            " \n",
            "s\n",
            "t\n",
            "r\n",
            "i\n",
            "n\n",
            "g\n"
          ],
          "name": "stdout"
        }
      ]
    },
    {
      "cell_type": "code",
      "metadata": {
        "id": "BFIkNv59tCGB",
        "outputId": "453a11e1-9a7d-4d95-a3cc-e269fbf26a33"
      },
      "source": [
        "var[3] = \"t\" # this will fail because immutability"
      ],
      "execution_count": null,
      "outputs": [
        {
          "output_type": "error",
          "ename": "TypeError",
          "evalue": "'str' object does not support item assignment",
          "traceback": [
            "\u001b[0;31m---------------------------------------------------------------------------\u001b[0m",
            "\u001b[0;31mTypeError\u001b[0m                                 Traceback (most recent call last)",
            "\u001b[0;32m<ipython-input-53-afd63de1e61e>\u001b[0m in \u001b[0;36m<module>\u001b[0;34m\u001b[0m\n\u001b[0;32m----> 1\u001b[0;31m \u001b[0mvar\u001b[0m\u001b[0;34m[\u001b[0m\u001b[0;36m3\u001b[0m\u001b[0;34m]\u001b[0m \u001b[0;34m=\u001b[0m \u001b[0;34m\"t\"\u001b[0m \u001b[0;31m# this will fail because immutability\u001b[0m\u001b[0;34m\u001b[0m\u001b[0;34m\u001b[0m\u001b[0m\n\u001b[0m",
            "\u001b[0;31mTypeError\u001b[0m: 'str' object does not support item assignment"
          ]
        }
      ]
    },
    {
      "cell_type": "markdown",
      "metadata": {
        "id": "bIoH_6DftCGB"
      },
      "source": [
        "Strings can be sliced just as lists can"
      ]
    },
    {
      "cell_type": "code",
      "metadata": {
        "id": "5RvNCQ4htCGB",
        "outputId": "5ab55893-c43b-4649-ee2e-93c1ff3dac89"
      },
      "source": [
        "#String slicing\n",
        "print(var)\n",
        "print (var[6:])\n",
        "print (var[1:3])\n",
        "print (var[:-1])\n",
        "print (var[2:10:2]) #the last parameter is for chagning the step size"
      ],
      "execution_count": null,
      "outputs": [
        {
          "output_type": "stream",
          "text": [
            "This is a string\n",
            "s a string\n",
            "hi\n",
            "This is a strin\n",
            "i sa\n"
          ],
          "name": "stdout"
        }
      ]
    },
    {
      "cell_type": "markdown",
      "metadata": {
        "id": "JTnXRvSgtCGC"
      },
      "source": [
        "![](https://github.com/YatishPachigolla/BasicPython/blob/main/listiness.slides.dir/7.png?raw=1)"
      ]
    },
    {
      "cell_type": "markdown",
      "metadata": {
        "id": "JLnDLEqpxV25"
      },
      "source": [
        "## Files\n",
        "\n",
        "The built-in `open()` function creates a Python file object, which serves as a link to a file residing on your machine. After calling 'open()', strings of data can be transferred to and from the associated external file by calling the returned file object's methods.\n",
        "\n",
        "At this point, you can read data from the file as a whole (`read()`, or `n` bytes at a time, `read(n)`. You can read a line at a time with `readline()`, and all the lines into a list of strings with `readlines()`. Similar methods exist for writing.\n",
        "\n",
        "You must close the file after you finish using it.\n",
        "\n",
        "![](https://github.com/YatishPachigolla/BasicPython/blob/main/listiness.slides.dir/10.png?raw=1)\n",
        "\n",
        "But as you might have expected, you can treat a file just like a list even more idiomatically, as we shall see."
      ]
    },
    {
      "cell_type": "code",
      "metadata": {
        "id": "nTbTLYLxtCGC",
        "outputId": "6de892a5-560f-4c28-eb47-0628db7a70b8"
      },
      "source": [
        "fd = open(\"data/Julius Caesar.txt\")\n",
        "counter = 0\n",
        "for line in fd:\n",
        "    if counter < 10: # print first 10 lines, there are lots!\n",
        "        print(\"<<\", line, \">>\")\n",
        "    counter = counter + 1 # also writeable as counter += 1\n",
        "fd.close()"
      ],
      "execution_count": null,
      "outputs": [
        {
          "output_type": "stream",
          "text": [
            "<< THE TRAGEDY OF JULIUS CAESAR\n",
            " >>\n",
            "<< \n",
            " >>\n",
            "<< \n",
            " >>\n",
            "<< by William Shakespeare\n",
            " >>\n",
            "<< \n",
            " >>\n",
            "<< \n",
            " >>\n",
            "<< Contents\n",
            " >>\n",
            "<< \n",
            " >>\n",
            "<< ACT I\n",
            " >>\n",
            "<< Scene I. Rome. A street.\n",
            " >>\n"
          ],
          "name": "stdout"
        }
      ]
    },
    {
      "cell_type": "markdown",
      "metadata": {
        "id": "TqGT3JJCtCGD"
      },
      "source": [
        "Notice that the newlines remain. You can use the string method `strip` to remove them. There are many such \"methods\", which are functions that belong to string \"objects\"."
      ]
    },
    {
      "cell_type": "code",
      "metadata": {
        "id": "eKl9GBdPtCGD",
        "outputId": "b784fc66-51e1-4af7-93ac-a6f8f8dcf8f6"
      },
      "source": [
        "fd = open(\"data/Julius Caesar.txt\")\n",
        "counter = 0\n",
        "for line in fd:\n",
        "    if counter < 10: # print first 10 lines\n",
        "        print(\"<<\", line.strip(), \">>\")\n",
        "    else:\n",
        "        break # break out of for loop\n",
        "    counter = counter + 1 # also writeable as counter += 1\n",
        "fd.close()\n",
        "print(counter)"
      ],
      "execution_count": null,
      "outputs": [
        {
          "output_type": "stream",
          "text": [
            "<< THE TRAGEDY OF JULIUS CAESAR >>\n",
            "<<  >>\n",
            "<<  >>\n",
            "<< by William Shakespeare >>\n",
            "<<  >>\n",
            "<<  >>\n",
            "<< Contents >>\n",
            "<<  >>\n",
            "<< ACT I >>\n",
            "<< Scene I. Rome. A street. >>\n",
            "10\n"
          ],
          "name": "stdout"
        }
      ]
    },
    {
      "cell_type": "markdown",
      "metadata": {
        "id": "ySXnRM0-tCGD"
      },
      "source": [
        "Above we added a `break` statement in the for loop which ended our iteration through the file (its the whole play!!!). You can use `readlines()` here but it will read the entire file into memory."
      ]
    },
    {
      "cell_type": "code",
      "metadata": {
        "id": "zuDufHTHtCGD",
        "outputId": "0993814b-5e45-4472-8093-384b05c75e61"
      },
      "source": [
        "fd = open(\"data/Julius Caesar.txt\")\n",
        "lines = [line.strip() for line in fd.readlines()]\n",
        "fd.close()\n",
        "print(len(lines))"
      ],
      "execution_count": null,
      "outputs": [
        {
          "output_type": "stream",
          "text": [
            "4639\n"
          ],
          "name": "stdout"
        }
      ]
    },
    {
      "cell_type": "markdown",
      "metadata": {
        "id": "w8capUiCtCGE"
      },
      "source": [
        "### What about writing?\n",
        "\n",
        "Lets write the first ten lines out..."
      ]
    },
    {
      "cell_type": "code",
      "metadata": {
        "id": "sz679ncntCGE",
        "outputId": "00c20ee8-c136-45bb-e487-b2f611560836"
      },
      "source": [
        "fd = open(\"data/Julius Caesar.txt\")\n",
        "fd2 = open(\"data/julfirst10.txt\", \"w\")\n",
        "counter = 0\n",
        "for line in fd:\n",
        "    if counter < 10: # print first 10 lines\n",
        "        print(\"<<\", line.strip(), \">>\")\n",
        "        fd2.write(line)\n",
        "    else:\n",
        "        break # break out of for loop\n",
        "    counter = counter + 1 # also writeable as counter += 1\n",
        "fd.close()\n",
        "fd2.close()\n",
        "print(counter)"
      ],
      "execution_count": null,
      "outputs": [
        {
          "output_type": "stream",
          "text": [
            "<< THE TRAGEDY OF JULIUS CAESAR >>\n",
            "<<  >>\n",
            "<<  >>\n",
            "<< by William Shakespeare >>\n",
            "<<  >>\n",
            "<<  >>\n",
            "<< Contents >>\n",
            "<<  >>\n",
            "<< ACT I >>\n",
            "<< Scene I. Rome. A street. >>\n",
            "10\n"
          ],
          "name": "stdout"
        }
      ]
    }
  ]
}